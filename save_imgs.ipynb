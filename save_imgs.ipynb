{
 "cells": [
  {
   "cell_type": "code",
   "execution_count": null,
   "id": "48107be0",
   "metadata": {},
   "outputs": [],
   "source": [
    "import glob,os,cv2"
   ]
  },
  {
   "cell_type": "code",
   "execution_count": 10,
   "id": "02889a80",
   "metadata": {},
   "outputs": [],
   "source": [
    "path = '../../Datasets/Processed/videos_limpios/videos/'\n",
    "files = glob.glob(path+'*.mp4')"
   ]
  },
  {
   "cell_type": "code",
   "execution_count": 14,
   "id": "8401a89e",
   "metadata": {},
   "outputs": [],
   "source": [
    "os.mkdir('frames')"
   ]
  },
  {
   "cell_type": "code",
   "execution_count": 16,
   "id": "df0a059b",
   "metadata": {},
   "outputs": [],
   "source": [
    "f = files[0]\n",
    "cap = cv2.VideoCapture(f)\n",
    "#read all the frames\n",
    "while True:\n",
    "    ret, frame = cap.read()\n",
    "    if not ret:\n",
    "        break\n",
    "    #get the frame number\n",
    "    frame_number = int(cap.get(cv2.CAP_PROP_POS_FRAMES))\n",
    "    if frame_number % 20 == 0:\n",
    "        #resize the frame\n",
    "        frame = cv2.resize(frame, (640, 640))\n",
    "        #save the frame\n",
    "        cv2.imwrite('frames/frame_{}.jpg'.format(frame_number), frame)"
   ]
  },
  {
   "cell_type": "code",
   "execution_count": 21,
   "id": "e7eee530",
   "metadata": {},
   "outputs": [],
   "source": [
    "frame = cv2.imread('frames/frame_20.jpg',0)"
   ]
  },
  {
   "cell_type": "code",
   "execution_count": 23,
   "id": "c169fad8",
   "metadata": {},
   "outputs": [
    {
     "data": {
      "text/plain": [
       "True"
      ]
     },
     "execution_count": 23,
     "metadata": {},
     "output_type": "execute_result"
    }
   ],
   "source": [
    "cv2.imwrite('frames/frame_20.jpg', frame)"
   ]
  },
  {
   "cell_type": "code",
   "execution_count": null,
   "id": "d3242ea5",
   "metadata": {},
   "outputs": [],
   "source": []
  }
 ],
 "metadata": {
  "kernelspec": {
   "display_name": "base",
   "language": "python",
   "name": "python3"
  },
  "language_info": {
   "codemirror_mode": {
    "name": "ipython",
    "version": 3
   },
   "file_extension": ".py",
   "mimetype": "text/x-python",
   "name": "python",
   "nbconvert_exporter": "python",
   "pygments_lexer": "ipython3",
   "version": "3.10.9"
  }
 },
 "nbformat": 4,
 "nbformat_minor": 5
}
